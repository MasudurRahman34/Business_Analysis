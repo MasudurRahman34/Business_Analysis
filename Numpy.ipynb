{
  "nbformat": 4,
  "nbformat_minor": 0,
  "metadata": {
    "colab": {
      "provenance": [],
      "authorship_tag": "ABX9TyOattVk5ctOD5BQrJCwXjs4",
      "include_colab_link": true
    },
    "kernelspec": {
      "name": "python3",
      "display_name": "Python 3"
    },
    "language_info": {
      "name": "python"
    }
  },
  "cells": [
    {
      "cell_type": "markdown",
      "metadata": {
        "id": "view-in-github",
        "colab_type": "text"
      },
      "source": [
        "<a href=\"https://colab.research.google.com/github/MasudurRahman34/Business_Analysis/blob/master/Numpy.ipynb\" target=\"_parent\"><img src=\"https://colab.research.google.com/assets/colab-badge.svg\" alt=\"Open In Colab\"/></a>"
      ]
    },
    {
      "cell_type": "code",
      "execution_count": 2,
      "metadata": {
        "colab": {
          "base_uri": "https://localhost:8080/",
          "height": 35
        },
        "id": "Do6D8iMyod_s",
        "outputId": "cb683c4f-f786-41d6-94c5-7f22b5dbb2bf"
      },
      "outputs": [
        {
          "output_type": "execute_result",
          "data": {
            "text/plain": [
              "'1.26.4'"
            ],
            "application/vnd.google.colaboratory.intrinsic+json": {
              "type": "string"
            }
          },
          "metadata": {},
          "execution_count": 2
        }
      ],
      "source": [
        "#import numpy from libraries\n",
        "import numpy as np\n",
        "np.__version__"
      ]
    },
    {
      "cell_type": "code",
      "source": [
        "#creating array from numpy\n",
        "arr=np.array([1,2,3,4,5,6,7,8,9,10])\n",
        "print(arr)"
      ],
      "metadata": {
        "colab": {
          "base_uri": "https://localhost:8080/"
        },
        "id": "e4_VvM0qo6nK",
        "outputId": "414603df-d666-455a-a1ff-9495e8bb556c"
      },
      "execution_count": 3,
      "outputs": [
        {
          "output_type": "stream",
          "name": "stdout",
          "text": [
            "[ 1  2  3  4  5  6  7  8  9 10]\n"
          ]
        }
      ]
    },
    {
      "cell_type": "code",
      "source": [
        "#numpy array can be multidimetional\n",
        "#1d, 2d, 3d....nd array.\n",
        "type(arr)"
      ],
      "metadata": {
        "colab": {
          "base_uri": "https://localhost:8080/"
        },
        "id": "c3TTNB0-pAh7",
        "outputId": "b38de901-346d-44f9-c8a1-cb8611c52980"
      },
      "execution_count": 4,
      "outputs": [
        {
          "output_type": "execute_result",
          "data": {
            "text/plain": [
              "numpy.ndarray"
            ]
          },
          "metadata": {},
          "execution_count": 4
        }
      ]
    },
    {
      "cell_type": "code",
      "source": [
        "def getInfoOfArrayObject(obj):\n",
        "  print(f'array elements= {(obj)}')\n",
        "  print(f'type of the object= {type(obj)}')\n",
        "\n",
        "  print(f'dimenttion of the object= {obj.ndim}')\n",
        "  print(f'shape of the object ={obj.shape}')\n",
        "  print(f'size of the array: ={obj.size}')\n",
        "  print(f'data type of the object ={obj.dtype}')\n"
      ],
      "metadata": {
        "id": "b2N90_9Ur0b6"
      },
      "execution_count": 5,
      "outputs": []
    },
    {
      "cell_type": "code",
      "source": [
        "getInfoOfArrayObject(arr)"
      ],
      "metadata": {
        "colab": {
          "base_uri": "https://localhost:8080/"
        },
        "id": "pz_jj-LGsCGy",
        "outputId": "ef292b2f-02c8-4fc8-8a69-1908259e3c54"
      },
      "execution_count": 6,
      "outputs": [
        {
          "output_type": "stream",
          "name": "stdout",
          "text": [
            "array elements= [ 1  2  3  4  5  6  7  8  9 10]\n",
            "type of the object= <class 'numpy.ndarray'>\n",
            "dimenttion of the object= 1\n",
            "shape of the object =(10,)\n",
            "size of the array: =10\n",
            "data type of the object =int64\n"
          ]
        }
      ]
    },
    {
      "cell_type": "markdown",
      "source": [
        "\n",
        "```\n",
        "shape\n",
        "1d object = row for example (4,)\n",
        "2d object = row,column for example(3,3)\n",
        "3d object = layer, (row, column) for example (2,(2,3))\n",
        "```"
      ],
      "metadata": {
        "id": "Y9UfFIvYw2ZQ"
      }
    },
    {
      "cell_type": "code",
      "source": [
        "#2d array\n",
        "arr2=np.array([[1,2,3],[4,5,6],[7,8,9]])\n",
        "getInfoOfArrayObject(arr2)\n"
      ],
      "metadata": {
        "colab": {
          "base_uri": "https://localhost:8080/"
        },
        "id": "-rDx9chmqZlK",
        "outputId": "4cd6edb6-c317-4cb7-af37-896a1a43cdae"
      },
      "execution_count": 7,
      "outputs": [
        {
          "output_type": "stream",
          "name": "stdout",
          "text": [
            "array elements= [[1 2 3]\n",
            " [4 5 6]\n",
            " [7 8 9]]\n",
            "type of the object= <class 'numpy.ndarray'>\n",
            "dimenttion of the object= 2\n",
            "shape of the object =(3, 3)\n",
            "size of the array: =9\n",
            "data type of the object =int64\n"
          ]
        }
      ]
    },
    {
      "cell_type": "code",
      "source": [
        "#3d array\n",
        "arr3 = np.array([[[1, 2, 3], [4, 5, 6]], [[1, 2, 3], [4, 5, 6]]])\n",
        "getInfoOfArrayObject(arr3)"
      ],
      "metadata": {
        "colab": {
          "base_uri": "https://localhost:8080/"
        },
        "id": "DdKgWhTys3y2",
        "outputId": "b51a6274-7830-4eb3-e81b-3dfb93bf9cdb"
      },
      "execution_count": 8,
      "outputs": [
        {
          "output_type": "stream",
          "name": "stdout",
          "text": [
            "array elements= [[[1 2 3]\n",
            "  [4 5 6]]\n",
            "\n",
            " [[1 2 3]\n",
            "  [4 5 6]]]\n",
            "type of the object= <class 'numpy.ndarray'>\n",
            "dimenttion of the object= 3\n",
            "shape of the object =(2, 2, 3)\n",
            "size of the array: =12\n",
            "data type of the object =int64\n"
          ]
        }
      ]
    },
    {
      "cell_type": "code",
      "source": [
        "#array one\n",
        "arr4=np.ones((3,4), dtype=int)\n",
        "getInfoOfArrayObject(arr4)"
      ],
      "metadata": {
        "colab": {
          "base_uri": "https://localhost:8080/"
        },
        "id": "jHrg_mQzfLMx",
        "outputId": "6c3003a1-894b-4e7c-b647-5633f8d3ddd0"
      },
      "execution_count": 9,
      "outputs": [
        {
          "output_type": "stream",
          "name": "stdout",
          "text": [
            "array elements= [[1 1 1 1]\n",
            " [1 1 1 1]\n",
            " [1 1 1 1]]\n",
            "type of the object= <class 'numpy.ndarray'>\n",
            "dimenttion of the object= 2\n",
            "shape of the object =(3, 4)\n",
            "size of the array: =12\n",
            "data type of the object =int64\n"
          ]
        }
      ]
    },
    {
      "cell_type": "code",
      "source": [
        "#arrithmetic with array\n",
        "arrAdd=arr4+99\n",
        "getInfoOfArrayObject(arrAdd)"
      ],
      "metadata": {
        "colab": {
          "base_uri": "https://localhost:8080/"
        },
        "id": "kpV7rk-Ug2N4",
        "outputId": "e0ee376c-fb91-416e-bcbc-422b3d570249"
      },
      "execution_count": 10,
      "outputs": [
        {
          "output_type": "stream",
          "name": "stdout",
          "text": [
            "array elements= [[100 100 100 100]\n",
            " [100 100 100 100]\n",
            " [100 100 100 100]]\n",
            "type of the object= <class 'numpy.ndarray'>\n",
            "dimenttion of the object= 2\n",
            "shape of the object =(3, 4)\n",
            "size of the array: =12\n",
            "data type of the object =int64\n"
          ]
        }
      ]
    },
    {
      "cell_type": "code",
      "source": [
        "#array arrange for sequencing\n",
        "arrSeq=np.arange(1,10, step=1)\n",
        "arraRevSeq=np.arange(10,0,-1)\n",
        "getInfoOfArrayObject(arrSeq)\n",
        "getInfoOfArrayObject(arraRevSeq)"
      ],
      "metadata": {
        "colab": {
          "base_uri": "https://localhost:8080/"
        },
        "id": "0SS0HprBmBK6",
        "outputId": "8065b368-279b-4d91-a7d0-ba151e1acf88"
      },
      "execution_count": 11,
      "outputs": [
        {
          "output_type": "stream",
          "name": "stdout",
          "text": [
            "array elements= [1 2 3 4 5 6 7 8 9]\n",
            "type of the object= <class 'numpy.ndarray'>\n",
            "dimenttion of the object= 1\n",
            "shape of the object =(9,)\n",
            "size of the array: =9\n",
            "data type of the object =int64\n",
            "array elements= [10  9  8  7  6  5  4  3  2  1]\n",
            "type of the object= <class 'numpy.ndarray'>\n",
            "dimenttion of the object= 1\n",
            "shape of the object =(10,)\n",
            "size of the array: =10\n",
            "data type of the object =int64\n"
          ]
        }
      ]
    },
    {
      "cell_type": "code",
      "source": [
        "#array linspace for eqally spaced over the specified range, parameter num, endpoint dtype\n",
        "arrLinspace=np.linspace(0,1, num=5)\n",
        "getInfoOfArrayObject(arrLinspace)\n",
        "#endpoint false means it exclude last range here is 1\n",
        "arrLinspace=np.linspace(0,1, num=5, endpoint=False)\n",
        "getInfoOfArrayObject(arrLinspace)"
      ],
      "metadata": {
        "colab": {
          "base_uri": "https://localhost:8080/"
        },
        "id": "oGBVKAEqnAZ5",
        "outputId": "234c62fe-a38a-455b-b355-1fae3f0334d6"
      },
      "execution_count": 12,
      "outputs": [
        {
          "output_type": "stream",
          "name": "stdout",
          "text": [
            "array elements= [0.   0.25 0.5  0.75 1.  ]\n",
            "type of the object= <class 'numpy.ndarray'>\n",
            "dimenttion of the object= 1\n",
            "shape of the object =(5,)\n",
            "size of the array: =5\n",
            "data type of the object =float64\n",
            "array elements= [0.  0.2 0.4 0.6 0.8]\n",
            "type of the object= <class 'numpy.ndarray'>\n",
            "dimenttion of the object= 1\n",
            "shape of the object =(5,)\n",
            "size of the array: =5\n",
            "data type of the object =float64\n"
          ]
        }
      ]
    },
    {
      "cell_type": "markdown",
      "source": [
        "\n",
        "\n",
        "```\n",
        "DIFFERENCE\n",
        "Feature\tnp.arange\tnp.linspace\n",
        "Spacing\tDefined by step\tDetermined to fit num elements\n",
        "Endpoint\tExcluded (stop)\tIncluded by default (endpoint=True)\n",
        "Usage\tWhen you know the step size\tWhen you know the number of elements\n",
        "```\n",
        "\n"
      ],
      "metadata": {
        "id": "4jUiXL8loTCw"
      }
    },
    {
      "cell_type": "code",
      "source": [
        "#reshape can convert the array with n dimentional\n",
        "arr8=np.arange(1,13).reshape(3,-1)\n",
        "getInfoOfArrayObject(arr8)"
      ],
      "metadata": {
        "colab": {
          "base_uri": "https://localhost:8080/"
        },
        "id": "3mFLgPjX-Xlg",
        "outputId": "9dcc93fc-b82a-4c2b-f6e5-b4b9f3e1a0fe"
      },
      "execution_count": 13,
      "outputs": [
        {
          "output_type": "stream",
          "name": "stdout",
          "text": [
            "array elements= [[ 1  2  3  4]\n",
            " [ 5  6  7  8]\n",
            " [ 9 10 11 12]]\n",
            "type of the object= <class 'numpy.ndarray'>\n",
            "dimenttion of the object= 2\n",
            "shape of the object =(3, 4)\n",
            "size of the array: =12\n",
            "data type of the object =int64\n"
          ]
        }
      ]
    },
    {
      "cell_type": "code",
      "source": [
        "#flatten array can convert any dimention into 1 dimention\n",
        "arr9=arr8.flatten()\n",
        "getInfoOfArrayObject(arr9)"
      ],
      "metadata": {
        "colab": {
          "base_uri": "https://localhost:8080/"
        },
        "id": "Tdio0P8gCTMT",
        "outputId": "8cc3767a-5bea-4374-f7e4-5c490f0130b3"
      },
      "execution_count": 14,
      "outputs": [
        {
          "output_type": "stream",
          "name": "stdout",
          "text": [
            "array elements= [ 1  2  3  4  5  6  7  8  9 10 11 12]\n",
            "type of the object= <class 'numpy.ndarray'>\n",
            "dimenttion of the object= 1\n",
            "shape of the object =(12,)\n",
            "size of the array: =12\n",
            "data type of the object =int64\n"
          ]
        }
      ]
    },
    {
      "cell_type": "code",
      "source": [
        "arr10=np.arange(1,51).reshape(10,5)\n",
        "getInfoOfArrayObject(arr10)"
      ],
      "metadata": {
        "colab": {
          "base_uri": "https://localhost:8080/"
        },
        "id": "o3PSpDD7D6GD",
        "outputId": "18efdf3d-62ce-4e68-b2b6-c8a904a27fdf"
      },
      "execution_count": 15,
      "outputs": [
        {
          "output_type": "stream",
          "name": "stdout",
          "text": [
            "array elements= [[ 1  2  3  4  5]\n",
            " [ 6  7  8  9 10]\n",
            " [11 12 13 14 15]\n",
            " [16 17 18 19 20]\n",
            " [21 22 23 24 25]\n",
            " [26 27 28 29 30]\n",
            " [31 32 33 34 35]\n",
            " [36 37 38 39 40]\n",
            " [41 42 43 44 45]\n",
            " [46 47 48 49 50]]\n",
            "type of the object= <class 'numpy.ndarray'>\n",
            "dimenttion of the object= 2\n",
            "shape of the object =(10, 5)\n",
            "size of the array: =50\n",
            "data type of the object =int64\n"
          ]
        }
      ]
    },
    {
      "cell_type": "code",
      "source": [
        "arr11=np.linspace(1,50,50, dtype=int).reshape(10,5)\n",
        "getInfoOfArrayObject(arr11)"
      ],
      "metadata": {
        "colab": {
          "base_uri": "https://localhost:8080/"
        },
        "id": "xaVp-cs8ERGu",
        "outputId": "0784ad0b-bea2-4e8c-c11c-444e96ea0875"
      },
      "execution_count": 16,
      "outputs": [
        {
          "output_type": "stream",
          "name": "stdout",
          "text": [
            "array elements= [[ 1  2  3  4  5]\n",
            " [ 6  7  8  9 10]\n",
            " [11 12 13 14 15]\n",
            " [16 17 18 19 20]\n",
            " [21 22 23 24 25]\n",
            " [26 27 28 29 30]\n",
            " [31 32 33 34 35]\n",
            " [36 37 38 39 40]\n",
            " [41 42 43 44 45]\n",
            " [46 47 48 49 50]]\n",
            "type of the object= <class 'numpy.ndarray'>\n",
            "dimenttion of the object= 2\n",
            "shape of the object =(10, 5)\n",
            "size of the array: =50\n",
            "data type of the object =int64\n"
          ]
        }
      ]
    },
    {
      "cell_type": "code",
      "source": [
        "identity_matrix=np.eye(3, dtype=int)\n",
        "getInfoOfArrayObject(identity_matrix)"
      ],
      "metadata": {
        "colab": {
          "base_uri": "https://localhost:8080/"
        },
        "id": "jhjriZiUGLVU",
        "outputId": "9bd4638e-885c-42a7-a661-af94b0558a91"
      },
      "execution_count": 17,
      "outputs": [
        {
          "output_type": "stream",
          "name": "stdout",
          "text": [
            "array elements= [[1 0 0]\n",
            " [0 1 0]\n",
            " [0 0 1]]\n",
            "type of the object= <class 'numpy.ndarray'>\n",
            "dimenttion of the object= 2\n",
            "shape of the object =(3, 3)\n",
            "size of the array: =9\n",
            "data type of the object =int64\n"
          ]
        }
      ]
    },
    {
      "cell_type": "markdown",
      "source": [
        "\n",
        "\n",
        "```\n",
        "mathemetic operation and universal function /scaler addition\n",
        "```\n",
        "\n"
      ],
      "metadata": {
        "id": "yY3notk8U9bW"
      }
    },
    {
      "cell_type": "code",
      "source": [
        "arr12=np.arange(10)\n",
        "arr13=np.arange(1,11)\n",
        "\n",
        "print(arr12)\n",
        "print(arr13)\n",
        "print(arr12+arr13)\n",
        "print(arr12-arr13)\n",
        "print(arr12*arr13)\n",
        "print(arr12/arr13)\n",
        "print(arr12%arr13)"
      ],
      "metadata": {
        "colab": {
          "base_uri": "https://localhost:8080/"
        },
        "id": "4gKzIGUjVUfO",
        "outputId": "c9b8af60-5763-45d2-a070-707a4345e70e"
      },
      "execution_count": 19,
      "outputs": [
        {
          "output_type": "stream",
          "name": "stdout",
          "text": [
            "[0 1 2 3 4 5 6 7 8 9]\n",
            "[ 1  2  3  4  5  6  7  8  9 10]\n",
            "[ 1  3  5  7  9 11 13 15 17 19]\n",
            "[-1 -1 -1 -1 -1 -1 -1 -1 -1 -1]\n",
            "[ 0  2  6 12 20 30 42 56 72 90]\n",
            "[0.         0.5        0.66666667 0.75       0.8        0.83333333\n",
            " 0.85714286 0.875      0.88888889 0.9       ]\n",
            "[0 1 2 3 4 5 6 7 8 9]\n"
          ]
        }
      ]
    }
  ]
}